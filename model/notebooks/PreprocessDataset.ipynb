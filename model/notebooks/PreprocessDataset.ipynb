{
 "cells": [
  {
   "cell_type": "markdown",
   "metadata": {},
   "source": [
    "<center> <h1> Preprocess Dataset </h1> </center>\n",
    "The goal of this jupyter notebook is to create a preprocess dataset lighter than the orignal dataset (from Mozilla Common Voice (30Gb))\n",
    "\n",
    "Step by step :\n",
    "- Download Mozilla Common Voices Fr (30Gb)  \n",
    "- Keep Only Validated **benchmark** segment (3Gb)  \n",
    "- Keep Only segment with (\"oui, non, un, deux, trois, quatre) (182 Mb)  \n",
    "- Convert MP3 files to WAV (1.93Gb)\n",
    "- Compress folder (1 Gb)\n"
   ]
  },
  {
   "cell_type": "code",
   "execution_count": null,
   "metadata": {},
   "outputs": [],
   "source": [
    "import shutil\n",
    "import pandas as pd"
   ]
  },
  {
   "cell_type": "code",
   "execution_count": 3,
   "metadata": {},
   "outputs": [
    {
     "data": {
      "text/html": [
       "<div>\n",
       "<style scoped>\n",
       "    .dataframe tbody tr th:only-of-type {\n",
       "        vertical-align: middle;\n",
       "    }\n",
       "\n",
       "    .dataframe tbody tr th {\n",
       "        vertical-align: top;\n",
       "    }\n",
       "\n",
       "    .dataframe thead th {\n",
       "        text-align: right;\n",
       "    }\n",
       "</style>\n",
       "<table border=\"1\" class=\"dataframe\">\n",
       "  <thead>\n",
       "    <tr style=\"text-align: right;\">\n",
       "      <th></th>\n",
       "      <th>path</th>\n",
       "      <th>sentence</th>\n",
       "    </tr>\n",
       "  </thead>\n",
       "  <tbody>\n",
       "    <tr>\n",
       "      <th>0</th>\n",
       "      <td>common_voice_fr_22098482.wav</td>\n",
       "      <td>trois</td>\n",
       "    </tr>\n",
       "    <tr>\n",
       "      <th>1</th>\n",
       "      <td>common_voice_fr_21955578.wav</td>\n",
       "      <td>quatre</td>\n",
       "    </tr>\n",
       "    <tr>\n",
       "      <th>2</th>\n",
       "      <td>common_voice_fr_22500710.wav</td>\n",
       "      <td>un</td>\n",
       "    </tr>\n",
       "    <tr>\n",
       "      <th>3</th>\n",
       "      <td>common_voice_fr_21964070.wav</td>\n",
       "      <td>non</td>\n",
       "    </tr>\n",
       "    <tr>\n",
       "      <th>4</th>\n",
       "      <td>common_voice_fr_22357111.wav</td>\n",
       "      <td>trois</td>\n",
       "    </tr>\n",
       "  </tbody>\n",
       "</table>\n",
       "</div>"
      ],
      "text/plain": [
       "                           path sentence\n",
       "0  common_voice_fr_22098482.wav    trois\n",
       "1  common_voice_fr_21955578.wav   quatre\n",
       "2  common_voice_fr_22500710.wav       un\n",
       "3  common_voice_fr_21964070.wav      non\n",
       "4  common_voice_fr_22357111.wav    trois"
      ]
     },
     "execution_count": 3,
     "metadata": {},
     "output_type": "execute_result"
    }
   ],
   "source": [
    "df = pd.read_csv('../data/validated.tsv', delimiter='\\t')\n",
    "df = df[df['sentence'].str.contains(r'un|deux|trois|quatre|oui|non')]\n",
    "df.head(5)"
   ]
  },
  {
   "cell_type": "code",
   "execution_count": null,
   "metadata": {},
   "outputs": [],
   "source": [
    "for index, row in df.iterrows(): # keep only files which contain the words we are interested in\n",
    "    shutil.copy(\"../data/clips/\" + row['path'], \"../clips/\" + row['path'])\n",
    "\n",
    "df[\"path\"] = df[\"path\"].str.replace(\".mp3\", \".wav\")\n",
    "df = df.drop(columns=['client_id', 'up_votes', 'down_votes', 'age', 'gender', 'accent', 'locale', 'segment'])\n",
    "df.to_csv('../data/data.csv', index=False)"
   ]
  },
  {
   "cell_type": "markdown",
   "metadata": {},
   "source": [
    "## Convert mp3 to wav\n",
    "Download [ffmpeg](https://ffmpeg.org/download.html)  before starting  \n",
    "\n",
    "On Windows\n",
    "```bash\n",
    "for %i in (*.mp3) do ffmpeg -i \"%i\" \"../clips_wav/%~ni.wav\"\n",
    "```\n",
    "\n",
    "On Linux\n",
    "```bash\n",
    "for file in *.mp3; do ffmpeg -i \"clips_mp3/$file\" \"clips_wav/${file%.mp3}.wav\"; done\n",
    "```\n"
   ]
  },
  {
   "cell_type": "markdown",
   "metadata": {},
   "source": [
    "## Compress folder\n",
    "```bash \n",
    "tar cvf folder.tar.gz\n",
    "```"
   ]
  }
 ],
 "metadata": {
  "kernelspec": {
   "display_name": "venv",
   "language": "python",
   "name": "python3"
  },
  "language_info": {
   "codemirror_mode": {
    "name": "ipython",
    "version": 3
   },
   "file_extension": ".py",
   "mimetype": "text/x-python",
   "name": "python",
   "nbconvert_exporter": "python",
   "pygments_lexer": "ipython3",
   "version": "3.9.12"
  }
 },
 "nbformat": 4,
 "nbformat_minor": 2
}
