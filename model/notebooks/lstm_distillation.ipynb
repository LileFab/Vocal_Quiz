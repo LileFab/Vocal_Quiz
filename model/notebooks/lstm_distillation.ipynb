{
 "cells": [
  {
   "cell_type": "code",
   "execution_count": 1,
   "metadata": {},
   "outputs": [
    {
     "name": "stdout",
     "output_type": "stream",
     "text": [
      "GPU :  NVIDIA GeForce GTX 1660 Ti\n"
     ]
    }
   ],
   "source": [
    "import os\n",
    "import math\n",
    "from ast import literal_eval\n",
    "import pandas as pd\n",
    "import matplotlib.pyplot as plt\n",
    "import numpy as np\n",
    "\n",
    "from utils.preprocess_torchaudio import normalize_tensor\n",
    "\n",
    "import torch\n",
    "import torch.nn as nn\n",
    "import torch.optim as optim\n",
    "from torch.utils.data import Dataset, DataLoader, TensorDataset, random_split\n",
    "import torch.nn.functional as F\n",
    "from torchvision import transforms\n",
    "\n",
    "# Set the device to gpu if possible else to cpu\n",
    "DEVICE = 'cuda' if torch.cuda.is_available() else 'cpu'\n",
    "device = torch.device(DEVICE)\n",
    "if torch.cuda.is_available():\n",
    "    print('GPU : ', torch.cuda.get_device_name())"
   ]
  },
  {
   "cell_type": "markdown",
   "metadata": {},
   "source": [
    "Loading Data"
   ]
  },
  {
   "cell_type": "code",
   "execution_count": 2,
   "metadata": {},
   "outputs": [
    {
     "name": "stdout",
     "output_type": "stream",
     "text": [
      "torch.Size([20138, 128, 94])\n",
      "torch.Size([20138, 6])\n"
     ]
    }
   ],
   "source": [
    "X = torch.load('../../data/mel_spec_wav_6.pt')\n",
    "Y = torch.load('../../data/target_mel_spec_wav_6.pt')\n",
    "\n",
    "normalized = True\n",
    "X = normalize_tensor(X)\n",
    "\n",
    "print(X.shape)\n",
    "print(Y.shape)\n",
    "\n",
    "sequence_length = X.shape[1]\n",
    "input_size = X.shape[2]"
   ]
  },
  {
   "cell_type": "code",
   "execution_count": 3,
   "metadata": {},
   "outputs": [
    {
     "name": "stdout",
     "output_type": "stream",
     "text": [
      "train set size : 16110\n",
      "test set size : 4028\n"
     ]
    }
   ],
   "source": [
    "batch_size = 64\n",
    "\n",
    "dataset = TensorDataset(X, Y)\n",
    "train_size = int(len(Y) * 0.8)\n",
    "test_size = len(Y) - train_size\n",
    "train_dataset, test_dataset = random_split(dataset, [train_size, test_size])\n",
    "\n",
    "train_loader = DataLoader(dataset=train_dataset, batch_size=batch_size, shuffle=True)\n",
    "test_loader = DataLoader(dataset=test_dataset, batch_size=batch_size, shuffle=True)\n",
    "print(f'train set size : {len(train_dataset)}')\n",
    "print(f'test set size : {len(test_dataset)}')"
   ]
  },
  {
   "cell_type": "markdown",
   "metadata": {},
   "source": [
    "Teacher Model"
   ]
  },
  {
   "cell_type": "code",
   "execution_count": 4,
   "metadata": {},
   "outputs": [
    {
     "name": "stdout",
     "output_type": "stream",
     "text": [
      "teacher parameters :  13093106\n"
     ]
    }
   ],
   "source": [
    "# model parameters\n",
    "num_layers = 4\n",
    "hidden_size = 50\n",
    "num_classes = 6\n",
    "dropout = 0.25\n",
    "lr = 0.003\n",
    "num_epochs = 100\n",
    "\n",
    "inner_linear_size = [2000,100]\n",
    "\n",
    "class LSTM_t(nn.Module):\n",
    "    def __init__(self, input_size, hidden_size, num_layers, num_classes, sequence_length, dropout, inner_linear_size):\n",
    "        super(LSTM_t, self).__init__()\n",
    "        self.input_size = input_size\n",
    "        self.hidden_size = hidden_size\n",
    "        self.num_layers = num_layers\n",
    "        self.num_classes = num_classes\n",
    "        self.sequence_length = sequence_length\n",
    "        self.dropout = dropout\n",
    "        \n",
    "        self.lstm = nn.LSTM(input_size, hidden_size, num_layers, batch_first=True, dropout=dropout)\n",
    "        self.dropout = nn.Dropout(p=0.15)\n",
    "        self.fc1 = nn.Linear(hidden_size*sequence_length, inner_linear_size[0])\n",
    "        self.relu = nn.ReLU()\n",
    "        self.fc2 = nn.Linear(inner_linear_size[0], inner_linear_size[1])\n",
    "        self.fc3 = nn.Linear(inner_linear_size[1], num_classes)\n",
    "        \n",
    "    def forward(self, x):\n",
    "        h0 = torch.zeros(self.num_layers, x.size(0), self.hidden_size).to(device)\n",
    "        c0 = torch.zeros(self.num_layers, x.size(0), self.hidden_size).to(device)\n",
    "        \n",
    "        out, (_,_) = self.lstm(x, (h0, c0))\n",
    "        # out = self.fc(out[:, -1, :])\n",
    "        out = out.reshape(out.shape[0], -1)\n",
    "        out = self.dropout(out)\n",
    "        out = self.fc1(out)\n",
    "        out = self.relu(out)\n",
    "        out = self.fc2(out)\n",
    "        out = self.fc3(out)\n",
    "        return out\n",
    "    \n",
    "teacher = LSTM_t(input_size, hidden_size, num_layers, num_classes, sequence_length, dropout, inner_linear_size)\n",
    "teacher.to(device)\n",
    "\n",
    "teacher_num_params = sum(p.numel() for p in teacher.parameters() if p.requires_grad)\n",
    "print('teacher parameters : ', teacher_num_params)"
   ]
  },
  {
   "cell_type": "markdown",
   "metadata": {},
   "source": [
    "Loading teacher's weight"
   ]
  },
  {
   "cell_type": "code",
   "execution_count": 5,
   "metadata": {},
   "outputs": [
    {
     "data": {
      "text/plain": [
       "<All keys matched successfully>"
      ]
     },
     "execution_count": 5,
     "metadata": {},
     "output_type": "execute_result"
    }
   ],
   "source": [
    "teacher.load_state_dict(torch.load(\"../models/lstm-V5.pth\",map_location=device))"
   ]
  },
  {
   "cell_type": "markdown",
   "metadata": {},
   "source": [
    "Testing teacher model"
   ]
  },
  {
   "cell_type": "code",
   "execution_count": 6,
   "metadata": {},
   "outputs": [
    {
     "name": "stdout",
     "output_type": "stream",
     "text": [
      "Accuracy sur le test: 0.9930\n"
     ]
    }
   ],
   "source": [
    "teacher.eval()\n",
    "\n",
    "nb_just = 0\n",
    "nb = 0\n",
    "\n",
    "for batch_idx, (data, target) in enumerate(test_loader):\n",
    "    data = data.to(device)\n",
    "    target = target.to(device)\n",
    "    output = teacher(data)\n",
    "    nb_just += torch.sum(torch.argmax(output,axis=1) == torch.argmax(target,axis=1))\n",
    "    nb += output.shape[0]\n",
    "    \n",
    "    \n",
    "acc = nb_just/nb    \n",
    "print(f\"Accuracy sur le test: {acc:.4f}\")"
   ]
  },
  {
   "cell_type": "markdown",
   "metadata": {},
   "source": [
    "Student Model"
   ]
  },
  {
   "cell_type": "code",
   "execution_count": 7,
   "metadata": {},
   "outputs": [
    {
     "name": "stdout",
     "output_type": "stream",
     "text": [
      "student parameters :  128806\n"
     ]
    }
   ],
   "source": [
    "# model parameters\n",
    "num_layers = 4\n",
    "hidden_size = 50\n",
    "num_classes = 6\n",
    "dropout = 0.25\n",
    "lr = 0.003\n",
    "num_epochs = 100\n",
    "\n",
    "class LSTM_s(nn.Module):\n",
    "    def __init__(self, input_size, hidden_size, num_layers, num_classes, sequence_length, dropout):\n",
    "        super(LSTM_s, self).__init__()\n",
    "        self.input_size = input_size\n",
    "        self.hidden_size = hidden_size\n",
    "        self.num_layers = num_layers\n",
    "        self.num_classes = num_classes\n",
    "        self.sequence_length = sequence_length\n",
    "        self.dropout = dropout\n",
    "        \n",
    "        self.lstm = nn.LSTM(input_size, hidden_size, num_layers, batch_first=True, dropout=dropout)\n",
    "        self.fc = nn.Linear(hidden_size*sequence_length, num_classes)\n",
    "        \n",
    "    def forward(self, x):\n",
    "        h0 = torch.zeros(self.num_layers, x.size(0), self.hidden_size).to(device)\n",
    "        c0 = torch.zeros(self.num_layers, x.size(0), self.hidden_size).to(device)\n",
    "        \n",
    "        out, (_,_) = self.lstm(x, (h0, c0))\n",
    "        # out = self.fc(out[:, -1, :])\n",
    "        out = out.reshape(out.shape[0], -1)\n",
    "        out = self.fc(out)\n",
    "        return out\n",
    "    \n",
    "student = LSTM_s(input_size, hidden_size, num_layers, num_classes, sequence_length, dropout)\n",
    "student.to(device)\n",
    "\n",
    "student_num_params = sum(p.numel() for p in student.parameters() if p.requires_grad)\n",
    "print('student parameters : ', student_num_params)"
   ]
  },
  {
   "cell_type": "markdown",
   "metadata": {},
   "source": [
    "Training"
   ]
  },
  {
   "cell_type": "code",
   "execution_count": 8,
   "metadata": {},
   "outputs": [],
   "source": [
    "criterion = nn.MSELoss()\n",
    "optimizer = optim.Adam(student.parameters(), lr=lr)\n",
    "\n",
    "\n",
    "# np.nan si non utilisé\n",
    "scheduler_milestone = [30, 55, 80]\n",
    "scheduler_gamma = 1/3\n",
    "scheduler = optim.lr_scheduler.MultiStepLR(optimizer, milestones=scheduler_milestone, gamma=scheduler_gamma)"
   ]
  },
  {
   "cell_type": "code",
   "execution_count": 9,
   "metadata": {},
   "outputs": [
    {
     "name": "stdout",
     "output_type": "stream",
     "text": [
      "Train Epoch: 1/100\tLoss: 212.891089\t lr: 0.00300\n",
      "Accuracy sur le test: 0.7167\n",
      "Train Epoch: 10/100\tLoss: 34.285928\t lr: 0.00300\n",
      "Accuracy sur le test: 0.9094\n",
      "Train Epoch: 20/100\tLoss: 21.621750\t lr: 0.00300\n",
      "Accuracy sur le test: 0.9283\n",
      "Train Epoch: 30/100\tLoss: 17.307270\t lr: 0.00100\n",
      "Accuracy sur le test: 0.9402\n",
      "Train Epoch: 40/100\tLoss: 11.376583\t lr: 0.00100\n",
      "Accuracy sur le test: 0.9464\n",
      "Train Epoch: 50/100\tLoss: 10.149492\t lr: 0.00100\n",
      "Accuracy sur le test: 0.9476\n",
      "Train Epoch: 60/100\tLoss: 8.487152\t lr: 0.00033\n",
      "Accuracy sur le test: 0.9496\n",
      "Train Epoch: 70/100\tLoss: 8.182542\t lr: 0.00033\n",
      "Accuracy sur le test: 0.9486\n",
      "Train Epoch: 80/100\tLoss: 7.784416\t lr: 0.00011\n",
      "Accuracy sur le test: 0.9523\n",
      "Train Epoch: 90/100\tLoss: 7.377319\t lr: 0.00011\n",
      "Accuracy sur le test: 0.9499\n",
      "Train Epoch: 100/100\tLoss: 7.233952\t lr: 0.00011\n",
      "Accuracy sur le test: 0.9513\n"
     ]
    }
   ],
   "source": [
    "loss_trace_y = []\n",
    "test_accuracy_trace_y = []\n",
    "\n",
    "# Training loop\n",
    "for epoch in range(num_epochs):\n",
    "    teacher.train(False)\n",
    "    student.train()\n",
    "    loss_t = 0\n",
    "\n",
    "    for batch_idx, (data, _) in enumerate(train_loader):\n",
    "        data = data.to(device)\n",
    "        optimizer.zero_grad()\n",
    "        \n",
    "        with torch.no_grad():\n",
    "                output_teacher = teacher(data)\n",
    "        output = student(data)     \n",
    "        loss = criterion(output, output_teacher)\n",
    "        loss.backward()\n",
    "        optimizer.step()\n",
    "        loss_t += loss.item()\n",
    "        \n",
    "    scheduler.step()\n",
    "\n",
    "    epoch_loss = loss_t/(batch_idx+1)\n",
    "    loss_trace_y.insert(epoch, epoch_loss)\n",
    "    if epoch+1 == 1 or (epoch+1)%10 == 0:\n",
    "        # \\t lr: {scheduler.get_last_lr()[0]:.5f}\n",
    "        print(f'Train Epoch: {epoch+1}/{num_epochs}\\tLoss: {epoch_loss:.6f}\\t lr: {scheduler.get_last_lr()[0]:.5f}')\n",
    "        \n",
    "    student.eval()\n",
    "\n",
    "    nb_just = 0\n",
    "    nb = 0\n",
    "    for batch_idx, (data, target) in enumerate(test_loader):\n",
    "        data = data.to(device)\n",
    "        target = target.to(device)\n",
    "        output = student(data)\n",
    "        nb_just += torch.sum(torch.argmax(output,axis=1) == torch.argmax(target,axis=1))\n",
    "        nb += output.shape[0]\n",
    "    \n",
    "    acc = nb_just/nb\n",
    "    test_accuracy_trace_y.insert(epoch, acc.detach().cpu().numpy().item())\n",
    "    if epoch+1 == 1 or (epoch+1)%10 == 0:\n",
    "        print(f\"Accuracy sur le test: {acc:.4f}\")"
   ]
  },
  {
   "cell_type": "code",
   "execution_count": 11,
   "metadata": {},
   "outputs": [],
   "source": [
    "# PATH =  './../models/lstm-student-V6.pth'\n",
    "# torch.save(student.state_dict(), PATH)"
   ]
  },
  {
   "cell_type": "code",
   "execution_count": 10,
   "metadata": {},
   "outputs": [
    {
     "data": {
      "image/png": "[encoded data removed]",
      "text/plain": [
       "<Figure size 1600x500 with 2 Axes>"
      ]
     },
     "metadata": {},
     "output_type": "display_data"
    }
   ],
   "source": [
    "# Plot accuracy and loss graphs captured during the training process.\n",
    "fig, ax = plt.subplots(1,2,figsize=(16, 5))\n",
    "ax[0].set_title('Train loss per epoch')\n",
    "ax[0].plot(loss_trace_y, color='red', label='Loss')\n",
    "\n",
    "ax[1].set_title('Accuracy per epoch')\n",
    "ax[1].plot(test_accuracy_trace_y, color='blue', label='Test')\n",
    "plt.legend()\n",
    "\n",
    "plt.show()"
   ]
  },
  {
   "cell_type": "markdown",
   "metadata": {},
   "source": [
    "Reduction coef with distillation"
   ]
  },
  {
   "cell_type": "code",
   "execution_count": 18,
   "metadata": {},
   "outputs": [
    {
     "name": "stdout",
     "output_type": "stream",
     "text": [
      "reduction by 98.98 % of teacher size\n"
     ]
    }
   ],
   "source": [
    "print(f'reduction by {100 - teacher_num_params/(student_num_params*100):.2f} % of teacher size')"
   ]
  }
 ],
 "metadata": {
  "kernelspec": {
   "display_name": ".venv",
   "language": "python",
   "name": "python3"
  },
  "language_info": {
   "codemirror_mode": {
    "name": "ipython",
    "version": 3
   },
   "file_extension": ".py",
   "mimetype": "text/x-python",
   "name": "python",
   "nbconvert_exporter": "python",
   "pygments_lexer": "ipython3",
   "version": "3.10.9"
  }
 },
 "nbformat": 4,
 "nbformat_minor": 2
}
